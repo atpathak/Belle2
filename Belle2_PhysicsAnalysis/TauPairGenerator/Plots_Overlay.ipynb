{
 "cells": [
  {
   "cell_type": "code",
   "execution_count": 1,
   "metadata": {},
   "outputs": [
    {
     "name": "stdout",
     "output_type": "stream",
     "text": [
      "Welcome to JupyROOT 6.14/06\n"
     ]
    }
   ],
   "source": [
    "import matplotlib.pyplot as plt\n",
    "%matplotlib inline\n",
    "\n",
    "import root_pandas\n",
    "treefile1 = 'my_analysis_tau_to_21.root'\n",
    "treefile2 = 'my_analysis_tau_to_23.root'\n",
    "df1 = root_pandas.read_root(treefile1, key='tree')\n",
    "df2 = root_pandas.read_root(treefile2, key='tree')"
   ]
  },
  {
   "cell_type": "code",
   "execution_count": 14,
   "metadata": {},
   "outputs": [
    {
     "data": {
      "image/png": "[encoded data removed]",
      "text/plain": [
       "<Figure size 576x360 with 1 Axes>"
      ]
     },
     "metadata": {
      "needs_background": "light"
     },
     "output_type": "display_data"
    }
   ],
   "source": [
    "fig, axes = plt.subplots(figsize=(8,5))\n",
    "\n",
    "h = axes.hist(df1.tau_0_mu_EoverP, density = True, \n",
    "             bins=35, range=(-0.1, 1.3), \n",
    "             histtype='step', lw=1,\n",
    "             label=\"muon\", edgecolor='black')\n",
    "\n",
    "h = axes.hist(df1.tau_1_e_EoverP, density = True,\n",
    "             bins=35, range=(-0.1, 1.3), \n",
    "             histtype='step', lw=2,\n",
    "             label=\"electron\")\n",
    "\n",
    "h = axes.hist(df2.tau_1_pi_EoverP, density = True,\n",
    "             bins=35, range=(-0.1, 1.3), \n",
    "             histtype='step', lw=2,\n",
    "             label=\"Pion\")\n",
    "\n",
    "axes.legend(loc=\"best\")\n",
    "axes.set_xlabel(\"EoverP\", fontsize=16)\n",
    "fig.tight_layout()"
   ]
  },
  {
   "cell_type": "code",
   "execution_count": 7,
   "metadata": {},
   "outputs": [
    {
     "name": "stderr",
     "output_type": "stream",
     "text": [
      "/cvmfs/belle.cern.ch/sl6/externals/v01-07-01/Linux_x86_64/common/lib/python3.6/site-packages/numpy/lib/function_base.py:780: RuntimeWarning: invalid value encountered in greater_equal\n",
      "  keep = (tmp_a >= first_edge)\n",
      "/cvmfs/belle.cern.ch/sl6/externals/v01-07-01/Linux_x86_64/common/lib/python3.6/site-packages/numpy/lib/function_base.py:781: RuntimeWarning: invalid value encountered in less_equal\n",
      "  keep &= (tmp_a <= last_edge)\n"
     ]
    },
    {
     "data": {
      "image/png": "[encoded data removed]",
      "text/plain": [
       "<Figure size 576x360 with 1 Axes>"
      ]
     },
     "metadata": {
      "needs_background": "light"
     },
     "output_type": "display_data"
    }
   ],
   "source": [
    "fig, axes = plt.subplots(figsize=(8,5))\n",
    "\n",
    "h = axes.hist(df1.tau_0_mu_clusterE,  \n",
    "             bins=50, range=(0.0, 5.0), \n",
    "             histtype='step', lw=1,\n",
    "             label=\"muon\", edgecolor='black')\n",
    "\n",
    "h = axes.hist(df1.tau_1_e_clusterE, \n",
    "             bins=50, range=(0.0, 5.0), \n",
    "             histtype='step', lw=2,\n",
    "             label=\"electron\")\n",
    "\n",
    "h = axes.hist(df2.tau_1_pi_clusterE, \n",
    "             bins=50, range=(0.0, 5.0), \n",
    "             histtype='bar', lw=2,\n",
    "             label=\"Pion\")\n",
    "\n",
    "axes.legend(loc=\"best\")\n",
    "axes.set_xlabel(\"clusterE\", fontsize=16)\n",
    "fig.tight_layout()"
   ]
  },
  {
   "cell_type": "code",
   "execution_count": 5,
   "metadata": {},
   "outputs": [
    {
     "data": {
      "image/png": "[encoded data removed]",
      "text/plain": [
       "<Figure size 576x360 with 1 Axes>"
      ]
     },
     "metadata": {
      "needs_background": "light"
     },
     "output_type": "display_data"
    }
   ],
   "source": [
    "import matplotlib.pyplot as plt\n",
    "%matplotlib inline\n",
    "\n",
    "import root_pandas\n",
    "treefile1 = 'tautau_mctruthsel_21_test.root'\n",
    "treefile2 = 'tautau_mctruthsel_23_test.root'\n",
    "df1 = root_pandas.read_root(treefile1, key='tree')\n",
    "df2 = root_pandas.read_root(treefile2, key='tree')\n",
    "\n",
    "fig, axes = plt.subplots(figsize=(8,5))\n",
    "\n",
    "h = axes.hist(df1.tau_0_mu_EoverP, density = True, \n",
    "             bins=35, range=(-0.1, 1.3), \n",
    "             histtype='step', lw=1,\n",
    "             label=\"muon\", edgecolor='black')\n",
    "\n",
    "\n",
    "h = axes.hist(df1.tau_1_e_EoverP, density = True,\n",
    "             bins=35, range=(-0.1, 1.3), \n",
    "             histtype='step', lw=2,\n",
    "             label=\"electron\")\n",
    "\n",
    "h = axes.hist(df2.tau_1_pi_EoverP, density = True,\n",
    "             bins=35, range=(-0.1, 1.3), \n",
    "             histtype='step', lw=2,\n",
    "             label=\"Pion\")\n",
    "\n",
    "axes.legend(loc=\"best\")\n",
    "axes.set_xlabel(\"EoverP\", fontsize=16)\n",
    "fig.tight_layout()\n"
   ]
  },
  {
   "cell_type": "code",
   "execution_count": 5,
   "metadata": {},
   "outputs": [
    {
     "name": "stderr",
     "output_type": "stream",
     "text": [
      "/cvmfs/belle.cern.ch/sl6/externals/v01-07-01/Linux_x86_64/common/lib/python3.6/site-packages/numpy/lib/function_base.py:780: RuntimeWarning: invalid value encountered in greater_equal\n",
      "  keep = (tmp_a >= first_edge)\n",
      "/cvmfs/belle.cern.ch/sl6/externals/v01-07-01/Linux_x86_64/common/lib/python3.6/site-packages/numpy/lib/function_base.py:781: RuntimeWarning: invalid value encountered in less_equal\n",
      "  keep &= (tmp_a <= last_edge)\n"
     ]
    },
    {
     "ename": "ValueError",
     "evalue": "operands could not be broadcast together with shapes (35,) (36,) ",
     "output_type": "error",
     "traceback": [
      "\u001b[0;31m---------------------------------------------------------------------------\u001b[0m",
      "\u001b[0;31mValueError\u001b[0m                                Traceback (most recent call last)",
      "\u001b[0;32m<ipython-input-5-c6c0fd08c404>\u001b[0m in \u001b[0;36m<module>\u001b[0;34m()\u001b[0m\n\u001b[1;32m      3\u001b[0m              \u001b[0mhisttype\u001b[0m\u001b[0;34m=\u001b[0m\u001b[0;34m'step'\u001b[0m\u001b[0;34m,\u001b[0m \u001b[0mlw\u001b[0m\u001b[0;34m=\u001b[0m\u001b[0;36m1\u001b[0m\u001b[0;34m,\u001b[0m\u001b[0;34m\u001b[0m\u001b[0m\n\u001b[1;32m      4\u001b[0m              label=\"muon\", edgecolor='black')\n\u001b[0;32m----> 5\u001b[0;31m \u001b[0mnorm\u001b[0m \u001b[0;34m=\u001b[0m \u001b[0msum\u001b[0m\u001b[0;34m(\u001b[0m\u001b[0mh\u001b[0m\u001b[0;34m)\u001b[0m\u001b[0;34m\u001b[0m\u001b[0m\n\u001b[0m\u001b[1;32m      6\u001b[0m \u001b[0mprint\u001b[0m \u001b[0;34m(\u001b[0m\u001b[0mnorm\u001b[0m\u001b[0;34m)\u001b[0m\u001b[0;34m\u001b[0m\u001b[0m\n",
      "\u001b[0;31mValueError\u001b[0m: operands could not be broadcast together with shapes (35,) (36,) "
     ]
    }
   ],
   "source": [
    "h = axes.hist(df1.tau_0_mu_clusterE, density = 1, \n",
    "             bins=35, range=(-0.1, 1.3), \n",
    "             histtype='step', lw=1,\n",
    "             label=\"muon\", edgecolor='black')\n",
    "norm = sum(h)\n",
    "print (norm)"
   ]
  },
  {
   "cell_type": "code",
   "execution_count": 29,
   "metadata": {},
   "outputs": [],
   "source": [
    "from matplotlib import pyplot as plt\n",
    "%matplotlib inline\n",
    "import numpy as np"
   ]
  },
  {
   "cell_type": "code",
   "execution_count": 31,
   "metadata": {},
   "outputs": [
    {
     "name": "stdout",
     "output_type": "stream",
     "text": [
      "1109\n"
     ]
    }
   ],
   "source": [
    "hist1,_= np.histogram(df1.tau_0_mu_EoverP, bins=100)\n",
    "k = np.(hist1)\n",
    "print (k)"
   ]
  },
  {
   "cell_type": "code",
   "execution_count": 35,
   "metadata": {},
   "outputs": [],
   "source": [
    "hist1b = 1/np.sum(hist1)"
   ]
  },
  {
   "cell_type": "code",
   "execution_count": 18,
   "metadata": {},
   "outputs": [
    {
     "data": {
      "image/png": "[encoded data removed]",
      "text/plain": [
       "<Figure size 576x360 with 1 Axes>"
      ]
     },
     "metadata": {
      "needs_background": "light"
     },
     "output_type": "display_data"
    }
   ],
   "source": [
    "fig, axes = plt.subplots(figsize=(8,5))"
   ]
  },
  {
   "cell_type": "code",
   "execution_count": 36,
   "metadata": {},
   "outputs": [
    {
     "data": {
      "image/png": "[encoded data removed]",
      "text/plain": [
       "<Figure size 576x360 with 1 Axes>"
      ]
     },
     "metadata": {
      "needs_background": "light"
     },
     "output_type": "display_data"
    }
   ],
   "source": [
    "fig, axes = plt.subplots(figsize=(8,5))\n",
    "h = axes.hist(hist1b, \n",
    "             bins=35, range=(-0.1, 1.3), \n",
    "             histtype='step', lw=1,\n",
    "             label=\"muon\", edgecolor='black')\n",
    "\n",
    "axes.legend(loc=\"best\")\n",
    "axes.set_xlabel(\"EoverP\", fontsize=16)\n",
    "fig.tight_layout()\n",
    "plt.show()"
   ]
  },
  {
   "cell_type": "code",
   "execution_count": 22,
   "metadata": {},
   "outputs": [],
   "source": []
  },
  {
   "cell_type": "code",
   "execution_count": null,
   "metadata": {},
   "outputs": [],
   "source": []
  }
 ],
 "metadata": {
  "kernelspec": {
   "display_name": "Python 3 (Belle2)",
   "language": "python",
   "name": "python3"
  },
  "language_info": {
   "codemirror_mode": {
    "name": "ipython",
    "version": 3
   },
   "file_extension": ".py",
   "mimetype": "text/x-python",
   "name": "python",
   "nbconvert_exporter": "python",
   "pygments_lexer": "ipython3",
   "version": "3.6.9"
  }
 },
 "nbformat": 4,
 "nbformat_minor": 2
}
