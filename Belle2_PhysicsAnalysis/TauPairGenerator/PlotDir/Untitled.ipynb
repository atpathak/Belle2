{
 "cells": [
  {
   "cell_type": "code",
   "execution_count": 1,
   "metadata": {},
   "outputs": [
    {
     "ename": "IndentationError",
     "evalue": "unexpected indent (<ipython-input-1-9e97f4eefad4>, line 2)",
     "output_type": "error",
     "traceback": [
      "\u001b[0;36m  File \u001b[0;32m\"<ipython-input-1-9e97f4eefad4>\"\u001b[0;36m, line \u001b[0;32m2\u001b[0m\n\u001b[0;31m    myTree = infile.Get(\"tree\")\u001b[0m\n\u001b[0m    ^\u001b[0m\n\u001b[0;31mIndentationError\u001b[0m\u001b[0;31m:\u001b[0m unexpected indent\n"
     ]
    }
   ],
   "source": [
    "infile = TFile(rootFile)\n",
    "    myTree = infile.Get(\"tree\")\n",
    "    hist = ROOT.TH1F(\"hist\", \"\", 100,0,50);\n",
    "    hist_tauMinus = ROOT.TH1F(\"hist_tauMinus\", \"tau Minus Decays\", 100,0,50);\n",
    "    for entry in myTree:\n",
    "        tauPlus = entry.tauPlusMCMode\n",
    "        tauMinus = entry.tauMinusMCMode\n",
    "        hist_tauPlus.Fill(tauPlus)\n",
    "        hist_tauMinus.Fill(tauMinus"
   ]
  },
  {
   "cell_type": "code",
   "execution_count": null,
   "metadata": {},
   "outputs": [],
   "source": []
  }
 ],
 "metadata": {
  "kernelspec": {
   "display_name": "Python 3 (Belle2)",
   "language": "python",
   "name": "python3"
  },
  "language_info": {
   "codemirror_mode": {
    "name": "ipython",
    "version": 3
   },
   "file_extension": ".py",
   "mimetype": "text/x-python",
   "name": "python",
   "nbconvert_exporter": "python",
   "pygments_lexer": "ipython3",
   "version": "3.6.6"
  }
 },
 "nbformat": 4,
 "nbformat_minor": 2
}
