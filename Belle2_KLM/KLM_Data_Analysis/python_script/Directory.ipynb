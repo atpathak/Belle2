{
 "cells": [
  {
   "cell_type": "code",
   "execution_count": 26,
   "metadata": {},
   "outputs": [],
   "source": [
    "import ROOT\n",
    "from ROOT import Belle2, TH1, TH2, TCanvas, THistPainter, TPad, gROOT, gStyle, TFile, TDirectory\n",
    "import os\n",
    "import sys\n",
    "import shutil\n",
    "from optparse import Option, OptionValueError, OptionParser\n"
   ]
  },
  {
   "cell_type": "code",
   "execution_count": 27,
   "metadata": {},
   "outputs": [],
   "source": [
    "my_file1 = TFile.Open(\"eklmHists-e0008r03123.root\")\n",
    "my_file = TFile.Open(\"eklmHists-e0008r03123_new.root\",'recreate')"
   ]
  },
  {
   "cell_type": "code",
   "execution_count": 28,
   "metadata": {},
   "outputs": [],
   "source": [
    "TDirectory.rawklmcd = my_file.mkdir(\"RawKLM\")\n",
    "TDirectory.secoccpcd = my_file.mkdir(\"SectorOccupancy\")\n",
    "TDirectory.hitoccpcd = my_file.mkdir(\"Occupancy\")"
   ]
  },
  {
   "cell_type": "code",
   "execution_count": 29,
   "metadata": {},
   "outputs": [
    {
     "data": {
      "text/plain": [
       "0"
      ]
     },
     "execution_count": 29,
     "metadata": {},
     "output_type": "execute_result"
    }
   ],
   "source": [
    "my_file.cd(\"RawKLM\")\n",
    "thisObject = my_file1.Get(\"NDigit\")\n",
    "thisObject.Write()\n",
    "my_file.cd(\"SectorOccupancy\")\n",
    "thisObject1 = my_file1.Get(\"BackwardSectorOccupancy\")\n",
    "thisObject2 = my_file1.Get(\"ForwardSectorOccupancy\")\n",
    "thisObject1.Write()\n",
    "thisObject2.Write()\n",
    "my_file.cd(\"Occupancy\")\n",
    "thisObject3 = my_file1.Get(\"occupancyBackwardXY\")\n",
    "thisObject4 = my_file1.Get(\"occupancyForwardXY\")\n",
    "thisObject3.Write()\n",
    "thisObject4.Write()\n",
    "my_file.Write()"
   ]
  },
  {
   "cell_type": "code",
   "execution_count": null,
   "metadata": {},
   "outputs": [],
   "source": []
  }
 ],
 "metadata": {
  "kernelspec": {
   "display_name": "Python 3 (Belle2)",
   "language": "python",
   "name": "python3"
  },
  "language_info": {
   "codemirror_mode": {
    "name": "ipython",
    "version": 3
   },
   "file_extension": ".py",
   "mimetype": "text/x-python",
   "name": "python",
   "nbconvert_exporter": "python",
   "pygments_lexer": "ipython3",
   "version": "3.6.6"
  }
 },
 "nbformat": 4,
 "nbformat_minor": 2
}
